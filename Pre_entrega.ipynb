{
  "nbformat": 4,
  "nbformat_minor": 0,
  "metadata": {
    "colab": {
      "provenance": [],
      "authorship_tag": "ABX9TyPqdel0rqXsg9idL72migLk",
      "include_colab_link": true
    },
    "kernelspec": {
      "name": "python3",
      "display_name": "Python 3"
    },
    "language_info": {
      "name": "python"
    }
  },
  "cells": [
    {
      "cell_type": "markdown",
      "metadata": {
        "id": "view-in-github",
        "colab_type": "text"
      },
      "source": [
        "<a href=\"https://colab.research.google.com/github/cecizubin/Maria-Cecilia-Zubin---Comision-61615---Preentrega-/blob/main/Pre_entrega.ipynb\" target=\"_parent\"><img src=\"https://colab.research.google.com/assets/colab-badge.svg\" alt=\"Open In Colab\"/></a>"
      ]
    },
    {
      "cell_type": "code",
      "execution_count": null,
      "metadata": {
        "id": "hhlZDABjuac8"
      },
      "outputs": [],
      "source": []
    },
    {
      "cell_type": "markdown",
      "source": [
        "Preentrega - Analisis de variables - Planteo de Hipotesis\n",
        "\n"
      ],
      "metadata": {
        "id": "REvctfLZuxoE"
      }
    },
    {
      "cell_type": "markdown",
      "source": [
        "Detalle dataset\n"
      ],
      "metadata": {
        "id": "uZFY4te3u6pU"
      }
    },
    {
      "cell_type": "code",
      "source": [
        "import pandas as pd\n",
        "\n",
        "# Leer el archivo especificando la codificación\n",
        "df = pd.read_csv('/content/dataset/dataset original.csv', encoding='latin-1', delimiter=';')\n",
        "\n",
        "# Mostrar las primeras filas del DataFrame\n",
        "df.head()"
      ],
      "metadata": {
        "colab": {
          "base_uri": "https://localhost:8080/",
          "height": 417
        },
        "id": "0e8GI76Ou-97",
        "outputId": "b830db07-3a9e-4897-bcde-3f02bff1290c"
      },
      "execution_count": null,
      "outputs": [
        {
          "output_type": "execute_result",
          "data": {
            "text/plain": [
              "   Legajo Estado          Estructura  Convenio  \\\n",
              "0     231   ACTI   Fuera de convenio  FCON       \n",
              "1     236   ACTI  Dentro de convenio  CC-781     \n",
              "2    1420   ACTI   Fuera de convenio  FCON       \n",
              "3    1444   ACTI  Dentro de convenio  ATCC       \n",
              "4    1470   ACTI  Dentro de convenio  ATCC       \n",
              "\n",
              "                        Categoria ID_Cat    Ingreso Sexo  \\\n",
              "0               Fuera de Convenio   FCC    8/9/2015    M   \n",
              "1  27 Hs. CATEGORIA OP. A CCT 781   OP27  14/9/2015    F   \n",
              "2               Fuera de Convenio   FCC    2/2/2009    F   \n",
              "3  36,0 Hs. CATEGORIA 3 CCT688/14   H01    2/2/2009    F   \n",
              "4  30,0 Hs. CATEGORIA 3 CCT688/14   H13   23/2/2009    F   \n",
              "\n",
              "                  provincia                     puesto  piramide Titulo   \\\n",
              "0  FORM                      Analista de Mantenimiento         6      NO   \n",
              "1  FORM                                      Operador          8      NO   \n",
              "2  CBA                         Team Leader Operaciones         7      NO   \n",
              "3  CBA                                       Operador          8      NO   \n",
              "4  CBA                                       Operador          8      NO   \n",
              "\n",
              "  ID_PuestoBasico                       Sindicato  ID_sindicato      Enero  \\\n",
              "0        AMT                    Fuera de Convenio             4     487369   \n",
              "1        CDT       SEC. Formosa CC-781 No Afiliad            10  226935,62   \n",
              "2        TLC                    Fuera de Convenio             4     481271   \n",
              "3        CDT                    ATACC No Afiliado             3  314974,44   \n",
              "4        CDT                    ATACC No Afiliado             3   262478,7   \n",
              "\n",
              "     Febrero      Marzo  \n",
              "0     633580     760296  \n",
              "1  251898,54  251898,54  \n",
              "2     625652     750782  \n",
              "3  349621,63  349621,63  \n",
              "4  291351,36  291351,36  "
            ],
            "text/html": [
              "\n",
              "  <div id=\"df-67650ed3-2cff-4091-bd65-baa534e5d49d\" class=\"colab-df-container\">\n",
              "    <div>\n",
              "<style scoped>\n",
              "    .dataframe tbody tr th:only-of-type {\n",
              "        vertical-align: middle;\n",
              "    }\n",
              "\n",
              "    .dataframe tbody tr th {\n",
              "        vertical-align: top;\n",
              "    }\n",
              "\n",
              "    .dataframe thead th {\n",
              "        text-align: right;\n",
              "    }\n",
              "</style>\n",
              "<table border=\"1\" class=\"dataframe\">\n",
              "  <thead>\n",
              "    <tr style=\"text-align: right;\">\n",
              "      <th></th>\n",
              "      <th>Legajo</th>\n",
              "      <th>Estado</th>\n",
              "      <th>Estructura</th>\n",
              "      <th>Convenio</th>\n",
              "      <th>Categoria</th>\n",
              "      <th>ID_Cat</th>\n",
              "      <th>Ingreso</th>\n",
              "      <th>Sexo</th>\n",
              "      <th>provincia</th>\n",
              "      <th>puesto</th>\n",
              "      <th>piramide</th>\n",
              "      <th>Titulo</th>\n",
              "      <th>ID_PuestoBasico</th>\n",
              "      <th>Sindicato</th>\n",
              "      <th>ID_sindicato</th>\n",
              "      <th>Enero</th>\n",
              "      <th>Febrero</th>\n",
              "      <th>Marzo</th>\n",
              "    </tr>\n",
              "  </thead>\n",
              "  <tbody>\n",
              "    <tr>\n",
              "      <th>0</th>\n",
              "      <td>231</td>\n",
              "      <td>ACTI</td>\n",
              "      <td>Fuera de convenio</td>\n",
              "      <td>FCON</td>\n",
              "      <td>Fuera de Convenio</td>\n",
              "      <td>FCC</td>\n",
              "      <td>8/9/2015</td>\n",
              "      <td>M</td>\n",
              "      <td>FORM</td>\n",
              "      <td>Analista de Mantenimiento</td>\n",
              "      <td>6</td>\n",
              "      <td>NO</td>\n",
              "      <td>AMT</td>\n",
              "      <td>Fuera de Convenio</td>\n",
              "      <td>4</td>\n",
              "      <td>487369</td>\n",
              "      <td>633580</td>\n",
              "      <td>760296</td>\n",
              "    </tr>\n",
              "    <tr>\n",
              "      <th>1</th>\n",
              "      <td>236</td>\n",
              "      <td>ACTI</td>\n",
              "      <td>Dentro de convenio</td>\n",
              "      <td>CC-781</td>\n",
              "      <td>27 Hs. CATEGORIA OP. A CCT 781</td>\n",
              "      <td>OP27</td>\n",
              "      <td>14/9/2015</td>\n",
              "      <td>F</td>\n",
              "      <td>FORM</td>\n",
              "      <td>Operador</td>\n",
              "      <td>8</td>\n",
              "      <td>NO</td>\n",
              "      <td>CDT</td>\n",
              "      <td>SEC. Formosa CC-781 No Afiliad</td>\n",
              "      <td>10</td>\n",
              "      <td>226935,62</td>\n",
              "      <td>251898,54</td>\n",
              "      <td>251898,54</td>\n",
              "    </tr>\n",
              "    <tr>\n",
              "      <th>2</th>\n",
              "      <td>1420</td>\n",
              "      <td>ACTI</td>\n",
              "      <td>Fuera de convenio</td>\n",
              "      <td>FCON</td>\n",
              "      <td>Fuera de Convenio</td>\n",
              "      <td>FCC</td>\n",
              "      <td>2/2/2009</td>\n",
              "      <td>F</td>\n",
              "      <td>CBA</td>\n",
              "      <td>Team Leader Operaciones</td>\n",
              "      <td>7</td>\n",
              "      <td>NO</td>\n",
              "      <td>TLC</td>\n",
              "      <td>Fuera de Convenio</td>\n",
              "      <td>4</td>\n",
              "      <td>481271</td>\n",
              "      <td>625652</td>\n",
              "      <td>750782</td>\n",
              "    </tr>\n",
              "    <tr>\n",
              "      <th>3</th>\n",
              "      <td>1444</td>\n",
              "      <td>ACTI</td>\n",
              "      <td>Dentro de convenio</td>\n",
              "      <td>ATCC</td>\n",
              "      <td>36,0 Hs. CATEGORIA 3 CCT688/14</td>\n",
              "      <td>H01</td>\n",
              "      <td>2/2/2009</td>\n",
              "      <td>F</td>\n",
              "      <td>CBA</td>\n",
              "      <td>Operador</td>\n",
              "      <td>8</td>\n",
              "      <td>NO</td>\n",
              "      <td>CDT</td>\n",
              "      <td>ATACC No Afiliado</td>\n",
              "      <td>3</td>\n",
              "      <td>314974,44</td>\n",
              "      <td>349621,63</td>\n",
              "      <td>349621,63</td>\n",
              "    </tr>\n",
              "    <tr>\n",
              "      <th>4</th>\n",
              "      <td>1470</td>\n",
              "      <td>ACTI</td>\n",
              "      <td>Dentro de convenio</td>\n",
              "      <td>ATCC</td>\n",
              "      <td>30,0 Hs. CATEGORIA 3 CCT688/14</td>\n",
              "      <td>H13</td>\n",
              "      <td>23/2/2009</td>\n",
              "      <td>F</td>\n",
              "      <td>CBA</td>\n",
              "      <td>Operador</td>\n",
              "      <td>8</td>\n",
              "      <td>NO</td>\n",
              "      <td>CDT</td>\n",
              "      <td>ATACC No Afiliado</td>\n",
              "      <td>3</td>\n",
              "      <td>262478,7</td>\n",
              "      <td>291351,36</td>\n",
              "      <td>291351,36</td>\n",
              "    </tr>\n",
              "  </tbody>\n",
              "</table>\n",
              "</div>\n",
              "    <div class=\"colab-df-buttons\">\n",
              "\n",
              "  <div class=\"colab-df-container\">\n",
              "    <button class=\"colab-df-convert\" onclick=\"convertToInteractive('df-67650ed3-2cff-4091-bd65-baa534e5d49d')\"\n",
              "            title=\"Convert this dataframe to an interactive table.\"\n",
              "            style=\"display:none;\">\n",
              "\n",
              "  <svg xmlns=\"http://www.w3.org/2000/svg\" height=\"24px\" viewBox=\"0 -960 960 960\">\n",
              "    <path d=\"M120-120v-720h720v720H120Zm60-500h600v-160H180v160Zm220 220h160v-160H400v160Zm0 220h160v-160H400v160ZM180-400h160v-160H180v160Zm440 0h160v-160H620v160ZM180-180h160v-160H180v160Zm440 0h160v-160H620v160Z\"/>\n",
              "  </svg>\n",
              "    </button>\n",
              "\n",
              "  <style>\n",
              "    .colab-df-container {\n",
              "      display:flex;\n",
              "      gap: 12px;\n",
              "    }\n",
              "\n",
              "    .colab-df-convert {\n",
              "      background-color: #E8F0FE;\n",
              "      border: none;\n",
              "      border-radius: 50%;\n",
              "      cursor: pointer;\n",
              "      display: none;\n",
              "      fill: #1967D2;\n",
              "      height: 32px;\n",
              "      padding: 0 0 0 0;\n",
              "      width: 32px;\n",
              "    }\n",
              "\n",
              "    .colab-df-convert:hover {\n",
              "      background-color: #E2EBFA;\n",
              "      box-shadow: 0px 1px 2px rgba(60, 64, 67, 0.3), 0px 1px 3px 1px rgba(60, 64, 67, 0.15);\n",
              "      fill: #174EA6;\n",
              "    }\n",
              "\n",
              "    .colab-df-buttons div {\n",
              "      margin-bottom: 4px;\n",
              "    }\n",
              "\n",
              "    [theme=dark] .colab-df-convert {\n",
              "      background-color: #3B4455;\n",
              "      fill: #D2E3FC;\n",
              "    }\n",
              "\n",
              "    [theme=dark] .colab-df-convert:hover {\n",
              "      background-color: #434B5C;\n",
              "      box-shadow: 0px 1px 3px 1px rgba(0, 0, 0, 0.15);\n",
              "      filter: drop-shadow(0px 1px 2px rgba(0, 0, 0, 0.3));\n",
              "      fill: #FFFFFF;\n",
              "    }\n",
              "  </style>\n",
              "\n",
              "    <script>\n",
              "      const buttonEl =\n",
              "        document.querySelector('#df-67650ed3-2cff-4091-bd65-baa534e5d49d button.colab-df-convert');\n",
              "      buttonEl.style.display =\n",
              "        google.colab.kernel.accessAllowed ? 'block' : 'none';\n",
              "\n",
              "      async function convertToInteractive(key) {\n",
              "        const element = document.querySelector('#df-67650ed3-2cff-4091-bd65-baa534e5d49d');\n",
              "        const dataTable =\n",
              "          await google.colab.kernel.invokeFunction('convertToInteractive',\n",
              "                                                    [key], {});\n",
              "        if (!dataTable) return;\n",
              "\n",
              "        const docLinkHtml = 'Like what you see? Visit the ' +\n",
              "          '<a target=\"_blank\" href=https://colab.research.google.com/notebooks/data_table.ipynb>data table notebook</a>'\n",
              "          + ' to learn more about interactive tables.';\n",
              "        element.innerHTML = '';\n",
              "        dataTable['output_type'] = 'display_data';\n",
              "        await google.colab.output.renderOutput(dataTable, element);\n",
              "        const docLink = document.createElement('div');\n",
              "        docLink.innerHTML = docLinkHtml;\n",
              "        element.appendChild(docLink);\n",
              "      }\n",
              "    </script>\n",
              "  </div>\n",
              "\n",
              "\n",
              "<div id=\"df-20e38c48-63ea-4ad7-8471-32abe56a8493\">\n",
              "  <button class=\"colab-df-quickchart\" onclick=\"quickchart('df-20e38c48-63ea-4ad7-8471-32abe56a8493')\"\n",
              "            title=\"Suggest charts\"\n",
              "            style=\"display:none;\">\n",
              "\n",
              "<svg xmlns=\"http://www.w3.org/2000/svg\" height=\"24px\"viewBox=\"0 0 24 24\"\n",
              "     width=\"24px\">\n",
              "    <g>\n",
              "        <path d=\"M19 3H5c-1.1 0-2 .9-2 2v14c0 1.1.9 2 2 2h14c1.1 0 2-.9 2-2V5c0-1.1-.9-2-2-2zM9 17H7v-7h2v7zm4 0h-2V7h2v10zm4 0h-2v-4h2v4z\"/>\n",
              "    </g>\n",
              "</svg>\n",
              "  </button>\n",
              "\n",
              "<style>\n",
              "  .colab-df-quickchart {\n",
              "      --bg-color: #E8F0FE;\n",
              "      --fill-color: #1967D2;\n",
              "      --hover-bg-color: #E2EBFA;\n",
              "      --hover-fill-color: #174EA6;\n",
              "      --disabled-fill-color: #AAA;\n",
              "      --disabled-bg-color: #DDD;\n",
              "  }\n",
              "\n",
              "  [theme=dark] .colab-df-quickchart {\n",
              "      --bg-color: #3B4455;\n",
              "      --fill-color: #D2E3FC;\n",
              "      --hover-bg-color: #434B5C;\n",
              "      --hover-fill-color: #FFFFFF;\n",
              "      --disabled-bg-color: #3B4455;\n",
              "      --disabled-fill-color: #666;\n",
              "  }\n",
              "\n",
              "  .colab-df-quickchart {\n",
              "    background-color: var(--bg-color);\n",
              "    border: none;\n",
              "    border-radius: 50%;\n",
              "    cursor: pointer;\n",
              "    display: none;\n",
              "    fill: var(--fill-color);\n",
              "    height: 32px;\n",
              "    padding: 0;\n",
              "    width: 32px;\n",
              "  }\n",
              "\n",
              "  .colab-df-quickchart:hover {\n",
              "    background-color: var(--hover-bg-color);\n",
              "    box-shadow: 0 1px 2px rgba(60, 64, 67, 0.3), 0 1px 3px 1px rgba(60, 64, 67, 0.15);\n",
              "    fill: var(--button-hover-fill-color);\n",
              "  }\n",
              "\n",
              "  .colab-df-quickchart-complete:disabled,\n",
              "  .colab-df-quickchart-complete:disabled:hover {\n",
              "    background-color: var(--disabled-bg-color);\n",
              "    fill: var(--disabled-fill-color);\n",
              "    box-shadow: none;\n",
              "  }\n",
              "\n",
              "  .colab-df-spinner {\n",
              "    border: 2px solid var(--fill-color);\n",
              "    border-color: transparent;\n",
              "    border-bottom-color: var(--fill-color);\n",
              "    animation:\n",
              "      spin 1s steps(1) infinite;\n",
              "  }\n",
              "\n",
              "  @keyframes spin {\n",
              "    0% {\n",
              "      border-color: transparent;\n",
              "      border-bottom-color: var(--fill-color);\n",
              "      border-left-color: var(--fill-color);\n",
              "    }\n",
              "    20% {\n",
              "      border-color: transparent;\n",
              "      border-left-color: var(--fill-color);\n",
              "      border-top-color: var(--fill-color);\n",
              "    }\n",
              "    30% {\n",
              "      border-color: transparent;\n",
              "      border-left-color: var(--fill-color);\n",
              "      border-top-color: var(--fill-color);\n",
              "      border-right-color: var(--fill-color);\n",
              "    }\n",
              "    40% {\n",
              "      border-color: transparent;\n",
              "      border-right-color: var(--fill-color);\n",
              "      border-top-color: var(--fill-color);\n",
              "    }\n",
              "    60% {\n",
              "      border-color: transparent;\n",
              "      border-right-color: var(--fill-color);\n",
              "    }\n",
              "    80% {\n",
              "      border-color: transparent;\n",
              "      border-right-color: var(--fill-color);\n",
              "      border-bottom-color: var(--fill-color);\n",
              "    }\n",
              "    90% {\n",
              "      border-color: transparent;\n",
              "      border-bottom-color: var(--fill-color);\n",
              "    }\n",
              "  }\n",
              "</style>\n",
              "\n",
              "  <script>\n",
              "    async function quickchart(key) {\n",
              "      const quickchartButtonEl =\n",
              "        document.querySelector('#' + key + ' button');\n",
              "      quickchartButtonEl.disabled = true;  // To prevent multiple clicks.\n",
              "      quickchartButtonEl.classList.add('colab-df-spinner');\n",
              "      try {\n",
              "        const charts = await google.colab.kernel.invokeFunction(\n",
              "            'suggestCharts', [key], {});\n",
              "      } catch (error) {\n",
              "        console.error('Error during call to suggestCharts:', error);\n",
              "      }\n",
              "      quickchartButtonEl.classList.remove('colab-df-spinner');\n",
              "      quickchartButtonEl.classList.add('colab-df-quickchart-complete');\n",
              "    }\n",
              "    (() => {\n",
              "      let quickchartButtonEl =\n",
              "        document.querySelector('#df-20e38c48-63ea-4ad7-8471-32abe56a8493 button');\n",
              "      quickchartButtonEl.style.display =\n",
              "        google.colab.kernel.accessAllowed ? 'block' : 'none';\n",
              "    })();\n",
              "  </script>\n",
              "</div>\n",
              "\n",
              "    </div>\n",
              "  </div>\n"
            ],
            "application/vnd.google.colaboratory.intrinsic+json": {
              "type": "dataframe",
              "variable_name": "df",
              "summary": "{\n  \"name\": \"df\",\n  \"rows\": 2205,\n  \"fields\": [\n    {\n      \"column\": \"Legajo\",\n      \"properties\": {\n        \"dtype\": \"number\",\n        \"std\": 100734,\n        \"min\": 231,\n        \"max\": 244588,\n        \"num_unique_values\": 2205,\n        \"samples\": [\n          243869,\n          25164,\n          25735\n        ],\n        \"semantic_type\": \"\",\n        \"description\": \"\"\n      }\n    },\n    {\n      \"column\": \"Estado\",\n      \"properties\": {\n        \"dtype\": \"category\",\n        \"num_unique_values\": 1,\n        \"samples\": [\n          \"ACTI\"\n        ],\n        \"semantic_type\": \"\",\n        \"description\": \"\"\n      }\n    },\n    {\n      \"column\": \"Estructura\",\n      \"properties\": {\n        \"dtype\": \"category\",\n        \"num_unique_values\": 2,\n        \"samples\": [\n          \"Dentro de convenio\"\n        ],\n        \"semantic_type\": \"\",\n        \"description\": \"\"\n      }\n    },\n    {\n      \"column\": \"Convenio\",\n      \"properties\": {\n        \"dtype\": \"category\",\n        \"num_unique_values\": 3,\n        \"samples\": [\n          \"FCON    \"\n        ],\n        \"semantic_type\": \"\",\n        \"description\": \"\"\n      }\n    },\n    {\n      \"column\": \"Categoria\",\n      \"properties\": {\n        \"dtype\": \"category\",\n        \"num_unique_values\": 17,\n        \"samples\": [\n          \"Fuera de Convenio\"\n        ],\n        \"semantic_type\": \"\",\n        \"description\": \"\"\n      }\n    },\n    {\n      \"column\": \"ID_Cat\",\n      \"properties\": {\n        \"dtype\": \"category\",\n        \"num_unique_values\": 17,\n        \"samples\": [\n          \"FCC \"\n        ],\n        \"semantic_type\": \"\",\n        \"description\": \"\"\n      }\n    },\n    {\n      \"column\": \"Ingreso\",\n      \"properties\": {\n        \"dtype\": \"category\",\n        \"num_unique_values\": 649,\n        \"samples\": [\n          \"3/10/2023\"\n        ],\n        \"semantic_type\": \"\",\n        \"description\": \"\"\n      }\n    },\n    {\n      \"column\": \"Sexo\",\n      \"properties\": {\n        \"dtype\": \"category\",\n        \"num_unique_values\": 2,\n        \"samples\": [\n          \"F\"\n        ],\n        \"semantic_type\": \"\",\n        \"description\": \"\"\n      }\n    },\n    {\n      \"column\": \"provincia\",\n      \"properties\": {\n        \"dtype\": \"category\",\n        \"num_unique_values\": 3,\n        \"samples\": [\n          \"FORM                    \"\n        ],\n        \"semantic_type\": \"\",\n        \"description\": \"\"\n      }\n    },\n    {\n      \"column\": \"puesto\",\n      \"properties\": {\n        \"dtype\": \"category\",\n        \"num_unique_values\": 71,\n        \"samples\": [\n          \"Analista de Control C de Serv\"\n        ],\n        \"semantic_type\": \"\",\n        \"description\": \"\"\n      }\n    },\n    {\n      \"column\": \"piramide\",\n      \"properties\": {\n        \"dtype\": \"number\",\n        \"std\": 0,\n        \"min\": 0,\n        \"max\": 8,\n        \"num_unique_values\": 9,\n        \"samples\": [\n          1\n        ],\n        \"semantic_type\": \"\",\n        \"description\": \"\"\n      }\n    },\n    {\n      \"column\": \"Titulo \",\n      \"properties\": {\n        \"dtype\": \"category\",\n        \"num_unique_values\": 2,\n        \"samples\": [\n          \"SI\"\n        ],\n        \"semantic_type\": \"\",\n        \"description\": \"\"\n      }\n    },\n    {\n      \"column\": \"ID_PuestoBasico\",\n      \"properties\": {\n        \"dtype\": \"category\",\n        \"num_unique_values\": 71,\n        \"samples\": [\n          \"ACS     \"\n        ],\n        \"semantic_type\": \"\",\n        \"description\": \"\"\n      }\n    },\n    {\n      \"column\": \"Sindicato\",\n      \"properties\": {\n        \"dtype\": \"category\",\n        \"num_unique_values\": 8,\n        \"samples\": [\n          \"SEC. Formosa CC-781 No Afiliad\"\n        ],\n        \"semantic_type\": \"\",\n        \"description\": \"\"\n      }\n    },\n    {\n      \"column\": \"ID_sindicato\",\n      \"properties\": {\n        \"dtype\": \"number\",\n        \"std\": 2,\n        \"min\": 2,\n        \"max\": 11,\n        \"num_unique_values\": 8,\n        \"samples\": [\n          10\n        ],\n        \"semantic_type\": \"\",\n        \"description\": \"\"\n      }\n    },\n    {\n      \"column\": \"Enero\",\n      \"properties\": {\n        \"dtype\": \"category\",\n        \"num_unique_values\": 72,\n        \"samples\": [\n          \"262478,7\"\n        ],\n        \"semantic_type\": \"\",\n        \"description\": \"\"\n      }\n    },\n    {\n      \"column\": \"Febrero\",\n      \"properties\": {\n        \"dtype\": \"category\",\n        \"num_unique_values\": 71,\n        \"samples\": [\n          \"233081,09\"\n        ],\n        \"semantic_type\": \"\",\n        \"description\": \"\"\n      }\n    },\n    {\n      \"column\": \"Marzo\",\n      \"properties\": {\n        \"dtype\": \"category\",\n        \"num_unique_values\": 71,\n        \"samples\": [\n          \"233081,09\"\n        ],\n        \"semantic_type\": \"\",\n        \"description\": \"\"\n      }\n    }\n  ]\n}"
            }
          },
          "metadata": {},
          "execution_count": 38
        }
      ]
    },
    {
      "cell_type": "markdown",
      "source": [
        "Descripcion de variables\n"
      ],
      "metadata": {
        "id": "Zq747a7yvb_L"
      }
    },
    {
      "cell_type": "code",
      "source": [
        "print(df.dtypes)\n"
      ],
      "metadata": {
        "colab": {
          "base_uri": "https://localhost:8080/"
        },
        "id": "-RYNOcpExXUV",
        "outputId": "f1f9ef64-2c1b-4a55-9b02-d398f62e73fe"
      },
      "execution_count": null,
      "outputs": [
        {
          "output_type": "stream",
          "name": "stdout",
          "text": [
            "Legajo              int64\n",
            "Estado             object\n",
            "Estructura         object\n",
            "Convenio           object\n",
            "Categoria          object\n",
            "ID_Cat             object\n",
            "Ingreso            object\n",
            "Sexo               object\n",
            "provincia          object\n",
            "puesto             object\n",
            "piramide            int64\n",
            "Titulo             object\n",
            "ID_PuestoBasico    object\n",
            "Sindicato          object\n",
            "ID_sindicato        int64\n",
            "Enero              object\n",
            "Febrero            object\n",
            "Marzo              object\n",
            "dtype: object\n"
          ]
        }
      ]
    },
    {
      "cell_type": "markdown",
      "source": [
        "Descripcion del Dataset\n"
      ],
      "metadata": {
        "id": "Tu8UyX5dz2Kl"
      }
    },
    {
      "cell_type": "markdown",
      "source": [
        "En la descripcion del dataset, al solicitar el detalle de cada tipo de variable, se observa, que esta leyendo tres columnas que poseen datos de sueldo, por ende son numericas, como de tipo objeto.\n",
        "Por tal motivo se procede a la correccion de las mismas."
      ],
      "metadata": {
        "id": "TLi2mlnE4vYN"
      }
    },
    {
      "cell_type": "code",
      "source": [
        "columnas_objeto = df.select_dtypes(include=['object']).columns\n",
        "print(\"Columnas que Pandas interpreta como 'object':\\n\", columnas_objeto)"
      ],
      "metadata": {
        "colab": {
          "base_uri": "https://localhost:8080/"
        },
        "id": "cOrn6Gcc2YT_",
        "outputId": "8f5418fb-daab-43e7-f7a4-b22740cb1374"
      },
      "execution_count": null,
      "outputs": [
        {
          "output_type": "stream",
          "name": "stdout",
          "text": [
            "Columnas que Pandas interpreta como 'object':\n",
            " Index(['Estado', 'Estructura', 'Convenio', 'Categoria', 'ID_Cat', 'Ingreso',\n",
            "       'Sexo', 'provincia', 'puesto', 'Titulo ', 'ID_PuestoBasico',\n",
            "       'Sindicato', 'Enero', 'Febrero', 'Marzo'],\n",
            "      dtype='object')\n"
          ]
        }
      ]
    },
    {
      "cell_type": "code",
      "source": [
        "df['Enero'] = pd.to_numeric(df['Enero'], errors='coerce')"
      ],
      "metadata": {
        "id": "io8FYG1u3Oxx"
      },
      "execution_count": null,
      "outputs": []
    },
    {
      "cell_type": "code",
      "source": [
        "print(df['Enero'].dtype)"
      ],
      "metadata": {
        "colab": {
          "base_uri": "https://localhost:8080/"
        },
        "id": "usAocxY13vl3",
        "outputId": "f5a96d53-4972-4289-e7d1-b9974ccd55ec"
      },
      "execution_count": null,
      "outputs": [
        {
          "output_type": "stream",
          "name": "stdout",
          "text": [
            "float64\n"
          ]
        }
      ]
    },
    {
      "cell_type": "code",
      "source": [
        "df['Febrero'] = pd.to_numeric(df['Febrero'], errors='coerce')"
      ],
      "metadata": {
        "id": "L5KfeLzH32_r"
      },
      "execution_count": null,
      "outputs": []
    },
    {
      "cell_type": "code",
      "source": [
        "print(df['Febrero'].dtype)"
      ],
      "metadata": {
        "colab": {
          "base_uri": "https://localhost:8080/"
        },
        "id": "zPIAZH9i4Kws",
        "outputId": "8d5aaa0e-37f7-4d53-9d5b-e6c40f687395"
      },
      "execution_count": null,
      "outputs": [
        {
          "output_type": "stream",
          "name": "stdout",
          "text": [
            "float64\n"
          ]
        }
      ]
    },
    {
      "cell_type": "code",
      "source": [
        "df['Marzo'] = pd.to_numeric(df['Marzo'], errors='coerce')"
      ],
      "metadata": {
        "id": "L93Ug8hs4Pj0"
      },
      "execution_count": null,
      "outputs": []
    },
    {
      "cell_type": "code",
      "source": [
        "print(df['Marzo'].dtype)"
      ],
      "metadata": {
        "colab": {
          "base_uri": "https://localhost:8080/"
        },
        "id": "wzCmDmIo4WIe",
        "outputId": "3512bfde-732d-43a7-e89b-8b5529fc5a59"
      },
      "execution_count": null,
      "outputs": [
        {
          "output_type": "stream",
          "name": "stdout",
          "text": [
            "float64\n"
          ]
        }
      ]
    },
    {
      "cell_type": "code",
      "source": [
        "df['Ingreso'] = pd.to_numeric(df['Ingreso'], errors='coerce')"
      ],
      "metadata": {
        "id": "85ppVLGs6K76"
      },
      "execution_count": null,
      "outputs": []
    },
    {
      "cell_type": "code",
      "source": [
        "print(df['Ingreso'].dtype)"
      ],
      "metadata": {
        "colab": {
          "base_uri": "https://localhost:8080/"
        },
        "id": "FJ_QXIz36P8S",
        "outputId": "4f79f2d3-deae-4bfb-bc4f-59adc4f8eeab"
      },
      "execution_count": null,
      "outputs": [
        {
          "output_type": "stream",
          "name": "stdout",
          "text": [
            "float64\n"
          ]
        }
      ]
    },
    {
      "cell_type": "code",
      "source": [
        "df['Legajo'] = df['Legajo'].astype(str)"
      ],
      "metadata": {
        "id": "mM94rEqmGRAS"
      },
      "execution_count": null,
      "outputs": []
    },
    {
      "cell_type": "code",
      "source": [
        "print(df['Legajo'].dtype)"
      ],
      "metadata": {
        "colab": {
          "base_uri": "https://localhost:8080/"
        },
        "id": "fHERHJxNGWZj",
        "outputId": "895eb1a2-102a-4348-876b-9af43fee0b35"
      },
      "execution_count": null,
      "outputs": [
        {
          "output_type": "stream",
          "name": "stdout",
          "text": [
            "object\n"
          ]
        }
      ]
    },
    {
      "cell_type": "markdown",
      "source": [
        "Se modifica el tipo de dato del legajo de numero a texto, para que no genere distorsion a nivel estadistico, debido a que no es un valor numerico relevante en este caso\n"
      ],
      "metadata": {
        "id": "y8fcmJK6GbMe"
      }
    },
    {
      "cell_type": "code",
      "source": [
        "print(df.dtypes)"
      ],
      "metadata": {
        "colab": {
          "base_uri": "https://localhost:8080/"
        },
        "id": "SBGx9lDR6bPy",
        "outputId": "2c3c5e10-a69d-40ec-f775-107fec01a488"
      },
      "execution_count": null,
      "outputs": [
        {
          "output_type": "stream",
          "name": "stdout",
          "text": [
            "Legajo              object\n",
            "Estado              object\n",
            "Estructura          object\n",
            "Convenio            object\n",
            "Categoria           object\n",
            "ID_Cat              object\n",
            "Ingreso             object\n",
            "Sexo                object\n",
            "provincia           object\n",
            "puesto              object\n",
            "piramide             int64\n",
            "Titulo              object\n",
            "ID_PuestoBasico     object\n",
            "Sindicato           object\n",
            "ID_sindicato         int64\n",
            "Enero              float64\n",
            "Febrero            float64\n",
            "Marzo              float64\n",
            "dtype: object\n"
          ]
        }
      ]
    },
    {
      "cell_type": "code",
      "source": [
        "df.shape"
      ],
      "metadata": {
        "colab": {
          "base_uri": "https://localhost:8080/"
        },
        "id": "rVOEJ_2G6qyt",
        "outputId": "edfe1992-bf46-4703-c94d-1e23f87aa436"
      },
      "execution_count": null,
      "outputs": [
        {
          "output_type": "execute_result",
          "data": {
            "text/plain": [
              "(2205, 18)"
            ]
          },
          "metadata": {},
          "execution_count": 23
        }
      ]
    },
    {
      "cell_type": "markdown",
      "source": [
        "El dataset obtenido posee 2205 filas y 18 columnas"
      ],
      "metadata": {
        "id": "dyvFFCSh6uMS"
      }
    },
    {
      "cell_type": "code",
      "source": [
        "df.duplicated().value_counts()"
      ],
      "metadata": {
        "colab": {
          "base_uri": "https://localhost:8080/",
          "height": 115
        },
        "id": "0X7GG_JF67A_",
        "outputId": "b6d2150b-fcc4-4105-f50f-417349a0db20"
      },
      "execution_count": null,
      "outputs": [
        {
          "output_type": "execute_result",
          "data": {
            "text/plain": [
              "False    2205\n",
              "Name: count, dtype: int64"
            ],
            "text/html": [
              "<div>\n",
              "<style scoped>\n",
              "    .dataframe tbody tr th:only-of-type {\n",
              "        vertical-align: middle;\n",
              "    }\n",
              "\n",
              "    .dataframe tbody tr th {\n",
              "        vertical-align: top;\n",
              "    }\n",
              "\n",
              "    .dataframe thead th {\n",
              "        text-align: right;\n",
              "    }\n",
              "</style>\n",
              "<table border=\"1\" class=\"dataframe\">\n",
              "  <thead>\n",
              "    <tr style=\"text-align: right;\">\n",
              "      <th></th>\n",
              "      <th>count</th>\n",
              "    </tr>\n",
              "  </thead>\n",
              "  <tbody>\n",
              "    <tr>\n",
              "      <th>False</th>\n",
              "      <td>2205</td>\n",
              "    </tr>\n",
              "  </tbody>\n",
              "</table>\n",
              "</div><br><label><b>dtype:</b> int64</label>"
            ]
          },
          "metadata": {},
          "execution_count": 24
        }
      ]
    },
    {
      "cell_type": "markdown",
      "source": [
        "El dataset no posee filas repetidas."
      ],
      "metadata": {
        "id": "J225yCNZ7Cl1"
      }
    },
    {
      "cell_type": "code",
      "source": [
        "df.info(verbose = True)"
      ],
      "metadata": {
        "colab": {
          "base_uri": "https://localhost:8080/"
        },
        "id": "kxIF5-ie7FXf",
        "outputId": "02cd7705-75e7-4120-9ad2-e76410030b97"
      },
      "execution_count": null,
      "outputs": [
        {
          "output_type": "stream",
          "name": "stdout",
          "text": [
            "<class 'pandas.core.frame.DataFrame'>\n",
            "RangeIndex: 2205 entries, 0 to 2204\n",
            "Data columns (total 18 columns):\n",
            " #   Column           Non-Null Count  Dtype  \n",
            "---  ------           --------------  -----  \n",
            " 0   Legajo           2205 non-null   object \n",
            " 1   Estado           2205 non-null   object \n",
            " 2   Estructura       2205 non-null   object \n",
            " 3   Convenio         2205 non-null   object \n",
            " 4   Categoria        2205 non-null   object \n",
            " 5   ID_Cat           2205 non-null   object \n",
            " 6   Ingreso          2205 non-null   object \n",
            " 7   Sexo             2205 non-null   object \n",
            " 8   provincia        2205 non-null   object \n",
            " 9   puesto           2205 non-null   object \n",
            " 10  piramide         2205 non-null   int64  \n",
            " 11  Titulo           2205 non-null   object \n",
            " 12  ID_PuestoBasico  2205 non-null   object \n",
            " 13  Sindicato        2205 non-null   object \n",
            " 14  ID_sindicato     2205 non-null   int64  \n",
            " 15  Enero            403 non-null    float64\n",
            " 16  Febrero          409 non-null    float64\n",
            " 17  Marzo            411 non-null    float64\n",
            "dtypes: float64(3), int64(2), object(13)\n",
            "memory usage: 310.2+ KB\n"
          ]
        }
      ]
    },
    {
      "cell_type": "markdown",
      "source": [
        "El dataset no posee valores nulos"
      ],
      "metadata": {
        "id": "uBWJZyjn7Pq2"
      }
    },
    {
      "cell_type": "markdown",
      "source": [
        "Columnas Categoricas"
      ],
      "metadata": {
        "id": "XNF9jTp27XR_"
      }
    },
    {
      "cell_type": "code",
      "source": [
        "df.describe(include = 'object').T"
      ],
      "metadata": {
        "colab": {
          "base_uri": "https://localhost:8080/",
          "height": 457
        },
        "id": "a8zODQLn7eSs",
        "outputId": "d7a06d57-235c-4a74-95d4-20f16ecf8035"
      },
      "execution_count": null,
      "outputs": [
        {
          "output_type": "execute_result",
          "data": {
            "text/plain": [
              "                count unique                             top  freq\n",
              "Legajo           2205   2205                             231     1\n",
              "Estado           2205      1                            ACTI  2205\n",
              "Estructura       2205      2              Dentro de convenio  1789\n",
              "Convenio         2205      3                        ATCC      1398\n",
              "Categoria        2205     17  36,0 Hs. CATEGORIA 3 CCT688/14   616\n",
              "ID_Cat           2205     17                            H01    616\n",
              "Ingreso          2205    649                        1/8/2022    45\n",
              "Sexo             2205      2                               F  1564\n",
              "provincia        2205      3        CBA                       1620\n",
              "puesto           2205     71                       Operador   1789\n",
              "Titulo           2205      2                              NO  2079\n",
              "ID_PuestoBasico  2205     71                        CDT       1789\n",
              "Sindicato        2205      8               ATACC No Afiliado  1297"
            ],
            "text/html": [
              "\n",
              "  <div id=\"df-3246ea34-0e58-4a6f-917f-ae0f1e2ba49e\" class=\"colab-df-container\">\n",
              "    <div>\n",
              "<style scoped>\n",
              "    .dataframe tbody tr th:only-of-type {\n",
              "        vertical-align: middle;\n",
              "    }\n",
              "\n",
              "    .dataframe tbody tr th {\n",
              "        vertical-align: top;\n",
              "    }\n",
              "\n",
              "    .dataframe thead th {\n",
              "        text-align: right;\n",
              "    }\n",
              "</style>\n",
              "<table border=\"1\" class=\"dataframe\">\n",
              "  <thead>\n",
              "    <tr style=\"text-align: right;\">\n",
              "      <th></th>\n",
              "      <th>count</th>\n",
              "      <th>unique</th>\n",
              "      <th>top</th>\n",
              "      <th>freq</th>\n",
              "    </tr>\n",
              "  </thead>\n",
              "  <tbody>\n",
              "    <tr>\n",
              "      <th>Legajo</th>\n",
              "      <td>2205</td>\n",
              "      <td>2205</td>\n",
              "      <td>231</td>\n",
              "      <td>1</td>\n",
              "    </tr>\n",
              "    <tr>\n",
              "      <th>Estado</th>\n",
              "      <td>2205</td>\n",
              "      <td>1</td>\n",
              "      <td>ACTI</td>\n",
              "      <td>2205</td>\n",
              "    </tr>\n",
              "    <tr>\n",
              "      <th>Estructura</th>\n",
              "      <td>2205</td>\n",
              "      <td>2</td>\n",
              "      <td>Dentro de convenio</td>\n",
              "      <td>1789</td>\n",
              "    </tr>\n",
              "    <tr>\n",
              "      <th>Convenio</th>\n",
              "      <td>2205</td>\n",
              "      <td>3</td>\n",
              "      <td>ATCC</td>\n",
              "      <td>1398</td>\n",
              "    </tr>\n",
              "    <tr>\n",
              "      <th>Categoria</th>\n",
              "      <td>2205</td>\n",
              "      <td>17</td>\n",
              "      <td>36,0 Hs. CATEGORIA 3 CCT688/14</td>\n",
              "      <td>616</td>\n",
              "    </tr>\n",
              "    <tr>\n",
              "      <th>ID_Cat</th>\n",
              "      <td>2205</td>\n",
              "      <td>17</td>\n",
              "      <td>H01</td>\n",
              "      <td>616</td>\n",
              "    </tr>\n",
              "    <tr>\n",
              "      <th>Ingreso</th>\n",
              "      <td>2205</td>\n",
              "      <td>649</td>\n",
              "      <td>1/8/2022</td>\n",
              "      <td>45</td>\n",
              "    </tr>\n",
              "    <tr>\n",
              "      <th>Sexo</th>\n",
              "      <td>2205</td>\n",
              "      <td>2</td>\n",
              "      <td>F</td>\n",
              "      <td>1564</td>\n",
              "    </tr>\n",
              "    <tr>\n",
              "      <th>provincia</th>\n",
              "      <td>2205</td>\n",
              "      <td>3</td>\n",
              "      <td>CBA</td>\n",
              "      <td>1620</td>\n",
              "    </tr>\n",
              "    <tr>\n",
              "      <th>puesto</th>\n",
              "      <td>2205</td>\n",
              "      <td>71</td>\n",
              "      <td>Operador</td>\n",
              "      <td>1789</td>\n",
              "    </tr>\n",
              "    <tr>\n",
              "      <th>Titulo</th>\n",
              "      <td>2205</td>\n",
              "      <td>2</td>\n",
              "      <td>NO</td>\n",
              "      <td>2079</td>\n",
              "    </tr>\n",
              "    <tr>\n",
              "      <th>ID_PuestoBasico</th>\n",
              "      <td>2205</td>\n",
              "      <td>71</td>\n",
              "      <td>CDT</td>\n",
              "      <td>1789</td>\n",
              "    </tr>\n",
              "    <tr>\n",
              "      <th>Sindicato</th>\n",
              "      <td>2205</td>\n",
              "      <td>8</td>\n",
              "      <td>ATACC No Afiliado</td>\n",
              "      <td>1297</td>\n",
              "    </tr>\n",
              "  </tbody>\n",
              "</table>\n",
              "</div>\n",
              "    <div class=\"colab-df-buttons\">\n",
              "\n",
              "  <div class=\"colab-df-container\">\n",
              "    <button class=\"colab-df-convert\" onclick=\"convertToInteractive('df-3246ea34-0e58-4a6f-917f-ae0f1e2ba49e')\"\n",
              "            title=\"Convert this dataframe to an interactive table.\"\n",
              "            style=\"display:none;\">\n",
              "\n",
              "  <svg xmlns=\"http://www.w3.org/2000/svg\" height=\"24px\" viewBox=\"0 -960 960 960\">\n",
              "    <path d=\"M120-120v-720h720v720H120Zm60-500h600v-160H180v160Zm220 220h160v-160H400v160Zm0 220h160v-160H400v160ZM180-400h160v-160H180v160Zm440 0h160v-160H620v160ZM180-180h160v-160H180v160Zm440 0h160v-160H620v160Z\"/>\n",
              "  </svg>\n",
              "    </button>\n",
              "\n",
              "  <style>\n",
              "    .colab-df-container {\n",
              "      display:flex;\n",
              "      gap: 12px;\n",
              "    }\n",
              "\n",
              "    .colab-df-convert {\n",
              "      background-color: #E8F0FE;\n",
              "      border: none;\n",
              "      border-radius: 50%;\n",
              "      cursor: pointer;\n",
              "      display: none;\n",
              "      fill: #1967D2;\n",
              "      height: 32px;\n",
              "      padding: 0 0 0 0;\n",
              "      width: 32px;\n",
              "    }\n",
              "\n",
              "    .colab-df-convert:hover {\n",
              "      background-color: #E2EBFA;\n",
              "      box-shadow: 0px 1px 2px rgba(60, 64, 67, 0.3), 0px 1px 3px 1px rgba(60, 64, 67, 0.15);\n",
              "      fill: #174EA6;\n",
              "    }\n",
              "\n",
              "    .colab-df-buttons div {\n",
              "      margin-bottom: 4px;\n",
              "    }\n",
              "\n",
              "    [theme=dark] .colab-df-convert {\n",
              "      background-color: #3B4455;\n",
              "      fill: #D2E3FC;\n",
              "    }\n",
              "\n",
              "    [theme=dark] .colab-df-convert:hover {\n",
              "      background-color: #434B5C;\n",
              "      box-shadow: 0px 1px 3px 1px rgba(0, 0, 0, 0.15);\n",
              "      filter: drop-shadow(0px 1px 2px rgba(0, 0, 0, 0.3));\n",
              "      fill: #FFFFFF;\n",
              "    }\n",
              "  </style>\n",
              "\n",
              "    <script>\n",
              "      const buttonEl =\n",
              "        document.querySelector('#df-3246ea34-0e58-4a6f-917f-ae0f1e2ba49e button.colab-df-convert');\n",
              "      buttonEl.style.display =\n",
              "        google.colab.kernel.accessAllowed ? 'block' : 'none';\n",
              "\n",
              "      async function convertToInteractive(key) {\n",
              "        const element = document.querySelector('#df-3246ea34-0e58-4a6f-917f-ae0f1e2ba49e');\n",
              "        const dataTable =\n",
              "          await google.colab.kernel.invokeFunction('convertToInteractive',\n",
              "                                                    [key], {});\n",
              "        if (!dataTable) return;\n",
              "\n",
              "        const docLinkHtml = 'Like what you see? Visit the ' +\n",
              "          '<a target=\"_blank\" href=https://colab.research.google.com/notebooks/data_table.ipynb>data table notebook</a>'\n",
              "          + ' to learn more about interactive tables.';\n",
              "        element.innerHTML = '';\n",
              "        dataTable['output_type'] = 'display_data';\n",
              "        await google.colab.output.renderOutput(dataTable, element);\n",
              "        const docLink = document.createElement('div');\n",
              "        docLink.innerHTML = docLinkHtml;\n",
              "        element.appendChild(docLink);\n",
              "      }\n",
              "    </script>\n",
              "  </div>\n",
              "\n",
              "\n",
              "<div id=\"df-928f97f5-5b8b-4da8-8925-427d8198c96b\">\n",
              "  <button class=\"colab-df-quickchart\" onclick=\"quickchart('df-928f97f5-5b8b-4da8-8925-427d8198c96b')\"\n",
              "            title=\"Suggest charts\"\n",
              "            style=\"display:none;\">\n",
              "\n",
              "<svg xmlns=\"http://www.w3.org/2000/svg\" height=\"24px\"viewBox=\"0 0 24 24\"\n",
              "     width=\"24px\">\n",
              "    <g>\n",
              "        <path d=\"M19 3H5c-1.1 0-2 .9-2 2v14c0 1.1.9 2 2 2h14c1.1 0 2-.9 2-2V5c0-1.1-.9-2-2-2zM9 17H7v-7h2v7zm4 0h-2V7h2v10zm4 0h-2v-4h2v4z\"/>\n",
              "    </g>\n",
              "</svg>\n",
              "  </button>\n",
              "\n",
              "<style>\n",
              "  .colab-df-quickchart {\n",
              "      --bg-color: #E8F0FE;\n",
              "      --fill-color: #1967D2;\n",
              "      --hover-bg-color: #E2EBFA;\n",
              "      --hover-fill-color: #174EA6;\n",
              "      --disabled-fill-color: #AAA;\n",
              "      --disabled-bg-color: #DDD;\n",
              "  }\n",
              "\n",
              "  [theme=dark] .colab-df-quickchart {\n",
              "      --bg-color: #3B4455;\n",
              "      --fill-color: #D2E3FC;\n",
              "      --hover-bg-color: #434B5C;\n",
              "      --hover-fill-color: #FFFFFF;\n",
              "      --disabled-bg-color: #3B4455;\n",
              "      --disabled-fill-color: #666;\n",
              "  }\n",
              "\n",
              "  .colab-df-quickchart {\n",
              "    background-color: var(--bg-color);\n",
              "    border: none;\n",
              "    border-radius: 50%;\n",
              "    cursor: pointer;\n",
              "    display: none;\n",
              "    fill: var(--fill-color);\n",
              "    height: 32px;\n",
              "    padding: 0;\n",
              "    width: 32px;\n",
              "  }\n",
              "\n",
              "  .colab-df-quickchart:hover {\n",
              "    background-color: var(--hover-bg-color);\n",
              "    box-shadow: 0 1px 2px rgba(60, 64, 67, 0.3), 0 1px 3px 1px rgba(60, 64, 67, 0.15);\n",
              "    fill: var(--button-hover-fill-color);\n",
              "  }\n",
              "\n",
              "  .colab-df-quickchart-complete:disabled,\n",
              "  .colab-df-quickchart-complete:disabled:hover {\n",
              "    background-color: var(--disabled-bg-color);\n",
              "    fill: var(--disabled-fill-color);\n",
              "    box-shadow: none;\n",
              "  }\n",
              "\n",
              "  .colab-df-spinner {\n",
              "    border: 2px solid var(--fill-color);\n",
              "    border-color: transparent;\n",
              "    border-bottom-color: var(--fill-color);\n",
              "    animation:\n",
              "      spin 1s steps(1) infinite;\n",
              "  }\n",
              "\n",
              "  @keyframes spin {\n",
              "    0% {\n",
              "      border-color: transparent;\n",
              "      border-bottom-color: var(--fill-color);\n",
              "      border-left-color: var(--fill-color);\n",
              "    }\n",
              "    20% {\n",
              "      border-color: transparent;\n",
              "      border-left-color: var(--fill-color);\n",
              "      border-top-color: var(--fill-color);\n",
              "    }\n",
              "    30% {\n",
              "      border-color: transparent;\n",
              "      border-left-color: var(--fill-color);\n",
              "      border-top-color: var(--fill-color);\n",
              "      border-right-color: var(--fill-color);\n",
              "    }\n",
              "    40% {\n",
              "      border-color: transparent;\n",
              "      border-right-color: var(--fill-color);\n",
              "      border-top-color: var(--fill-color);\n",
              "    }\n",
              "    60% {\n",
              "      border-color: transparent;\n",
              "      border-right-color: var(--fill-color);\n",
              "    }\n",
              "    80% {\n",
              "      border-color: transparent;\n",
              "      border-right-color: var(--fill-color);\n",
              "      border-bottom-color: var(--fill-color);\n",
              "    }\n",
              "    90% {\n",
              "      border-color: transparent;\n",
              "      border-bottom-color: var(--fill-color);\n",
              "    }\n",
              "  }\n",
              "</style>\n",
              "\n",
              "  <script>\n",
              "    async function quickchart(key) {\n",
              "      const quickchartButtonEl =\n",
              "        document.querySelector('#' + key + ' button');\n",
              "      quickchartButtonEl.disabled = true;  // To prevent multiple clicks.\n",
              "      quickchartButtonEl.classList.add('colab-df-spinner');\n",
              "      try {\n",
              "        const charts = await google.colab.kernel.invokeFunction(\n",
              "            'suggestCharts', [key], {});\n",
              "      } catch (error) {\n",
              "        console.error('Error during call to suggestCharts:', error);\n",
              "      }\n",
              "      quickchartButtonEl.classList.remove('colab-df-spinner');\n",
              "      quickchartButtonEl.classList.add('colab-df-quickchart-complete');\n",
              "    }\n",
              "    (() => {\n",
              "      let quickchartButtonEl =\n",
              "        document.querySelector('#df-928f97f5-5b8b-4da8-8925-427d8198c96b button');\n",
              "      quickchartButtonEl.style.display =\n",
              "        google.colab.kernel.accessAllowed ? 'block' : 'none';\n",
              "    })();\n",
              "  </script>\n",
              "</div>\n",
              "\n",
              "    </div>\n",
              "  </div>\n"
            ],
            "application/vnd.google.colaboratory.intrinsic+json": {
              "type": "dataframe",
              "summary": "{\n  \"name\": \"df\",\n  \"rows\": 13,\n  \"fields\": [\n    {\n      \"column\": \"count\",\n      \"properties\": {\n        \"dtype\": \"date\",\n        \"min\": \"2205\",\n        \"max\": \"2205\",\n        \"num_unique_values\": 1,\n        \"samples\": [\n          \"2205\"\n        ],\n        \"semantic_type\": \"\",\n        \"description\": \"\"\n      }\n    },\n    {\n      \"column\": \"unique\",\n      \"properties\": {\n        \"dtype\": \"date\",\n        \"min\": 1,\n        \"max\": 2205,\n        \"num_unique_values\": 8,\n        \"samples\": [\n          1\n        ],\n        \"semantic_type\": \"\",\n        \"description\": \"\"\n      }\n    },\n    {\n      \"column\": \"top\",\n      \"properties\": {\n        \"dtype\": \"string\",\n        \"num_unique_values\": 13,\n        \"samples\": [\n          \"CDT     \"\n        ],\n        \"semantic_type\": \"\",\n        \"description\": \"\"\n      }\n    },\n    {\n      \"column\": \"freq\",\n      \"properties\": {\n        \"dtype\": \"date\",\n        \"min\": \"1\",\n        \"max\": \"2205\",\n        \"num_unique_values\": 10,\n        \"samples\": [\n          \"2079\"\n        ],\n        \"semantic_type\": \"\",\n        \"description\": \"\"\n      }\n    }\n  ]\n}"
            }
          },
          "metadata": {},
          "execution_count": 57
        }
      ]
    },
    {
      "cell_type": "markdown",
      "source": [
        "Columnas Numericas"
      ],
      "metadata": {
        "id": "Iv1anF1k7qmd"
      }
    },
    {
      "cell_type": "code",
      "source": [
        "df.describe().T"
      ],
      "metadata": {
        "colab": {
          "base_uri": "https://localhost:8080/",
          "height": 206
        },
        "id": "CLHc0LXwFp4A",
        "outputId": "a2a95283-60e3-4165-8356-f621f5c6080f"
      },
      "execution_count": null,
      "outputs": [
        {
          "output_type": "execute_result",
          "data": {
            "text/plain": [
              "               count           mean            std       min       25%  \\\n",
              "piramide      2205.0       7.600000       0.993902       0.0       8.0   \n",
              "ID_sindicato  2205.0       4.257596       2.409306       2.0       3.0   \n",
              "Enero          403.0  577563.548387  390095.646450  243766.0  438431.0   \n",
              "Febrero        409.0  733049.322738  503231.275850  243766.0  569960.0   \n",
              "Marzo          411.0  852121.822384  610334.349921  243766.0  667133.0   \n",
              "\n",
              "                   50%       75%        max  \n",
              "piramide           8.0       8.0        8.0  \n",
              "ID_sindicato       3.0       4.0       11.0  \n",
              "Enero         446398.0  602268.5  4668357.0  \n",
              "Febrero       580317.0  733541.0  6068864.0  \n",
              "Marzo         696380.0  762710.0  6982637.0  "
            ],
            "text/html": [
              "\n",
              "  <div id=\"df-4f1c52c2-7b3b-4841-9cb3-eb4250a8e562\" class=\"colab-df-container\">\n",
              "    <div>\n",
              "<style scoped>\n",
              "    .dataframe tbody tr th:only-of-type {\n",
              "        vertical-align: middle;\n",
              "    }\n",
              "\n",
              "    .dataframe tbody tr th {\n",
              "        vertical-align: top;\n",
              "    }\n",
              "\n",
              "    .dataframe thead th {\n",
              "        text-align: right;\n",
              "    }\n",
              "</style>\n",
              "<table border=\"1\" class=\"dataframe\">\n",
              "  <thead>\n",
              "    <tr style=\"text-align: right;\">\n",
              "      <th></th>\n",
              "      <th>count</th>\n",
              "      <th>mean</th>\n",
              "      <th>std</th>\n",
              "      <th>min</th>\n",
              "      <th>25%</th>\n",
              "      <th>50%</th>\n",
              "      <th>75%</th>\n",
              "      <th>max</th>\n",
              "    </tr>\n",
              "  </thead>\n",
              "  <tbody>\n",
              "    <tr>\n",
              "      <th>piramide</th>\n",
              "      <td>2205.0</td>\n",
              "      <td>7.600000</td>\n",
              "      <td>0.993902</td>\n",
              "      <td>0.0</td>\n",
              "      <td>8.0</td>\n",
              "      <td>8.0</td>\n",
              "      <td>8.0</td>\n",
              "      <td>8.0</td>\n",
              "    </tr>\n",
              "    <tr>\n",
              "      <th>ID_sindicato</th>\n",
              "      <td>2205.0</td>\n",
              "      <td>4.257596</td>\n",
              "      <td>2.409306</td>\n",
              "      <td>2.0</td>\n",
              "      <td>3.0</td>\n",
              "      <td>3.0</td>\n",
              "      <td>4.0</td>\n",
              "      <td>11.0</td>\n",
              "    </tr>\n",
              "    <tr>\n",
              "      <th>Enero</th>\n",
              "      <td>403.0</td>\n",
              "      <td>577563.548387</td>\n",
              "      <td>390095.646450</td>\n",
              "      <td>243766.0</td>\n",
              "      <td>438431.0</td>\n",
              "      <td>446398.0</td>\n",
              "      <td>602268.5</td>\n",
              "      <td>4668357.0</td>\n",
              "    </tr>\n",
              "    <tr>\n",
              "      <th>Febrero</th>\n",
              "      <td>409.0</td>\n",
              "      <td>733049.322738</td>\n",
              "      <td>503231.275850</td>\n",
              "      <td>243766.0</td>\n",
              "      <td>569960.0</td>\n",
              "      <td>580317.0</td>\n",
              "      <td>733541.0</td>\n",
              "      <td>6068864.0</td>\n",
              "    </tr>\n",
              "    <tr>\n",
              "      <th>Marzo</th>\n",
              "      <td>411.0</td>\n",
              "      <td>852121.822384</td>\n",
              "      <td>610334.349921</td>\n",
              "      <td>243766.0</td>\n",
              "      <td>667133.0</td>\n",
              "      <td>696380.0</td>\n",
              "      <td>762710.0</td>\n",
              "      <td>6982637.0</td>\n",
              "    </tr>\n",
              "  </tbody>\n",
              "</table>\n",
              "</div>\n",
              "    <div class=\"colab-df-buttons\">\n",
              "\n",
              "  <div class=\"colab-df-container\">\n",
              "    <button class=\"colab-df-convert\" onclick=\"convertToInteractive('df-4f1c52c2-7b3b-4841-9cb3-eb4250a8e562')\"\n",
              "            title=\"Convert this dataframe to an interactive table.\"\n",
              "            style=\"display:none;\">\n",
              "\n",
              "  <svg xmlns=\"http://www.w3.org/2000/svg\" height=\"24px\" viewBox=\"0 -960 960 960\">\n",
              "    <path d=\"M120-120v-720h720v720H120Zm60-500h600v-160H180v160Zm220 220h160v-160H400v160Zm0 220h160v-160H400v160ZM180-400h160v-160H180v160Zm440 0h160v-160H620v160ZM180-180h160v-160H180v160Zm440 0h160v-160H620v160Z\"/>\n",
              "  </svg>\n",
              "    </button>\n",
              "\n",
              "  <style>\n",
              "    .colab-df-container {\n",
              "      display:flex;\n",
              "      gap: 12px;\n",
              "    }\n",
              "\n",
              "    .colab-df-convert {\n",
              "      background-color: #E8F0FE;\n",
              "      border: none;\n",
              "      border-radius: 50%;\n",
              "      cursor: pointer;\n",
              "      display: none;\n",
              "      fill: #1967D2;\n",
              "      height: 32px;\n",
              "      padding: 0 0 0 0;\n",
              "      width: 32px;\n",
              "    }\n",
              "\n",
              "    .colab-df-convert:hover {\n",
              "      background-color: #E2EBFA;\n",
              "      box-shadow: 0px 1px 2px rgba(60, 64, 67, 0.3), 0px 1px 3px 1px rgba(60, 64, 67, 0.15);\n",
              "      fill: #174EA6;\n",
              "    }\n",
              "\n",
              "    .colab-df-buttons div {\n",
              "      margin-bottom: 4px;\n",
              "    }\n",
              "\n",
              "    [theme=dark] .colab-df-convert {\n",
              "      background-color: #3B4455;\n",
              "      fill: #D2E3FC;\n",
              "    }\n",
              "\n",
              "    [theme=dark] .colab-df-convert:hover {\n",
              "      background-color: #434B5C;\n",
              "      box-shadow: 0px 1px 3px 1px rgba(0, 0, 0, 0.15);\n",
              "      filter: drop-shadow(0px 1px 2px rgba(0, 0, 0, 0.3));\n",
              "      fill: #FFFFFF;\n",
              "    }\n",
              "  </style>\n",
              "\n",
              "    <script>\n",
              "      const buttonEl =\n",
              "        document.querySelector('#df-4f1c52c2-7b3b-4841-9cb3-eb4250a8e562 button.colab-df-convert');\n",
              "      buttonEl.style.display =\n",
              "        google.colab.kernel.accessAllowed ? 'block' : 'none';\n",
              "\n",
              "      async function convertToInteractive(key) {\n",
              "        const element = document.querySelector('#df-4f1c52c2-7b3b-4841-9cb3-eb4250a8e562');\n",
              "        const dataTable =\n",
              "          await google.colab.kernel.invokeFunction('convertToInteractive',\n",
              "                                                    [key], {});\n",
              "        if (!dataTable) return;\n",
              "\n",
              "        const docLinkHtml = 'Like what you see? Visit the ' +\n",
              "          '<a target=\"_blank\" href=https://colab.research.google.com/notebooks/data_table.ipynb>data table notebook</a>'\n",
              "          + ' to learn more about interactive tables.';\n",
              "        element.innerHTML = '';\n",
              "        dataTable['output_type'] = 'display_data';\n",
              "        await google.colab.output.renderOutput(dataTable, element);\n",
              "        const docLink = document.createElement('div');\n",
              "        docLink.innerHTML = docLinkHtml;\n",
              "        element.appendChild(docLink);\n",
              "      }\n",
              "    </script>\n",
              "  </div>\n",
              "\n",
              "\n",
              "<div id=\"df-e9ee1903-05a9-48ed-bc8e-ae58b422e81c\">\n",
              "  <button class=\"colab-df-quickchart\" onclick=\"quickchart('df-e9ee1903-05a9-48ed-bc8e-ae58b422e81c')\"\n",
              "            title=\"Suggest charts\"\n",
              "            style=\"display:none;\">\n",
              "\n",
              "<svg xmlns=\"http://www.w3.org/2000/svg\" height=\"24px\"viewBox=\"0 0 24 24\"\n",
              "     width=\"24px\">\n",
              "    <g>\n",
              "        <path d=\"M19 3H5c-1.1 0-2 .9-2 2v14c0 1.1.9 2 2 2h14c1.1 0 2-.9 2-2V5c0-1.1-.9-2-2-2zM9 17H7v-7h2v7zm4 0h-2V7h2v10zm4 0h-2v-4h2v4z\"/>\n",
              "    </g>\n",
              "</svg>\n",
              "  </button>\n",
              "\n",
              "<style>\n",
              "  .colab-df-quickchart {\n",
              "      --bg-color: #E8F0FE;\n",
              "      --fill-color: #1967D2;\n",
              "      --hover-bg-color: #E2EBFA;\n",
              "      --hover-fill-color: #174EA6;\n",
              "      --disabled-fill-color: #AAA;\n",
              "      --disabled-bg-color: #DDD;\n",
              "  }\n",
              "\n",
              "  [theme=dark] .colab-df-quickchart {\n",
              "      --bg-color: #3B4455;\n",
              "      --fill-color: #D2E3FC;\n",
              "      --hover-bg-color: #434B5C;\n",
              "      --hover-fill-color: #FFFFFF;\n",
              "      --disabled-bg-color: #3B4455;\n",
              "      --disabled-fill-color: #666;\n",
              "  }\n",
              "\n",
              "  .colab-df-quickchart {\n",
              "    background-color: var(--bg-color);\n",
              "    border: none;\n",
              "    border-radius: 50%;\n",
              "    cursor: pointer;\n",
              "    display: none;\n",
              "    fill: var(--fill-color);\n",
              "    height: 32px;\n",
              "    padding: 0;\n",
              "    width: 32px;\n",
              "  }\n",
              "\n",
              "  .colab-df-quickchart:hover {\n",
              "    background-color: var(--hover-bg-color);\n",
              "    box-shadow: 0 1px 2px rgba(60, 64, 67, 0.3), 0 1px 3px 1px rgba(60, 64, 67, 0.15);\n",
              "    fill: var(--button-hover-fill-color);\n",
              "  }\n",
              "\n",
              "  .colab-df-quickchart-complete:disabled,\n",
              "  .colab-df-quickchart-complete:disabled:hover {\n",
              "    background-color: var(--disabled-bg-color);\n",
              "    fill: var(--disabled-fill-color);\n",
              "    box-shadow: none;\n",
              "  }\n",
              "\n",
              "  .colab-df-spinner {\n",
              "    border: 2px solid var(--fill-color);\n",
              "    border-color: transparent;\n",
              "    border-bottom-color: var(--fill-color);\n",
              "    animation:\n",
              "      spin 1s steps(1) infinite;\n",
              "  }\n",
              "\n",
              "  @keyframes spin {\n",
              "    0% {\n",
              "      border-color: transparent;\n",
              "      border-bottom-color: var(--fill-color);\n",
              "      border-left-color: var(--fill-color);\n",
              "    }\n",
              "    20% {\n",
              "      border-color: transparent;\n",
              "      border-left-color: var(--fill-color);\n",
              "      border-top-color: var(--fill-color);\n",
              "    }\n",
              "    30% {\n",
              "      border-color: transparent;\n",
              "      border-left-color: var(--fill-color);\n",
              "      border-top-color: var(--fill-color);\n",
              "      border-right-color: var(--fill-color);\n",
              "    }\n",
              "    40% {\n",
              "      border-color: transparent;\n",
              "      border-right-color: var(--fill-color);\n",
              "      border-top-color: var(--fill-color);\n",
              "    }\n",
              "    60% {\n",
              "      border-color: transparent;\n",
              "      border-right-color: var(--fill-color);\n",
              "    }\n",
              "    80% {\n",
              "      border-color: transparent;\n",
              "      border-right-color: var(--fill-color);\n",
              "      border-bottom-color: var(--fill-color);\n",
              "    }\n",
              "    90% {\n",
              "      border-color: transparent;\n",
              "      border-bottom-color: var(--fill-color);\n",
              "    }\n",
              "  }\n",
              "</style>\n",
              "\n",
              "  <script>\n",
              "    async function quickchart(key) {\n",
              "      const quickchartButtonEl =\n",
              "        document.querySelector('#' + key + ' button');\n",
              "      quickchartButtonEl.disabled = true;  // To prevent multiple clicks.\n",
              "      quickchartButtonEl.classList.add('colab-df-spinner');\n",
              "      try {\n",
              "        const charts = await google.colab.kernel.invokeFunction(\n",
              "            'suggestCharts', [key], {});\n",
              "      } catch (error) {\n",
              "        console.error('Error during call to suggestCharts:', error);\n",
              "      }\n",
              "      quickchartButtonEl.classList.remove('colab-df-spinner');\n",
              "      quickchartButtonEl.classList.add('colab-df-quickchart-complete');\n",
              "    }\n",
              "    (() => {\n",
              "      let quickchartButtonEl =\n",
              "        document.querySelector('#df-e9ee1903-05a9-48ed-bc8e-ae58b422e81c button');\n",
              "      quickchartButtonEl.style.display =\n",
              "        google.colab.kernel.accessAllowed ? 'block' : 'none';\n",
              "    })();\n",
              "  </script>\n",
              "</div>\n",
              "\n",
              "    </div>\n",
              "  </div>\n"
            ],
            "application/vnd.google.colaboratory.intrinsic+json": {
              "type": "dataframe",
              "summary": "{\n  \"name\": \"df\",\n  \"rows\": 5,\n  \"fields\": [\n    {\n      \"column\": \"count\",\n      \"properties\": {\n        \"dtype\": \"number\",\n        \"std\": 984.4444118384745,\n        \"min\": 403.0,\n        \"max\": 2205.0,\n        \"num_unique_values\": 4,\n        \"samples\": [\n          403.0,\n          411.0,\n          2205.0\n        ],\n        \"semantic_type\": \"\",\n        \"description\": \"\"\n      }\n    },\n    {\n      \"column\": \"mean\",\n      \"properties\": {\n        \"dtype\": \"number\",\n        \"std\": 406681.08924190304,\n        \"min\": 4.257596371882086,\n        \"max\": 852121.8223844282,\n        \"num_unique_values\": 5,\n        \"samples\": [\n          4.257596371882086,\n          852121.8223844282,\n          577563.5483870967\n        ],\n        \"semantic_type\": \"\",\n        \"description\": \"\"\n      }\n    },\n    {\n      \"column\": \"std\",\n      \"properties\": {\n        \"dtype\": \"number\",\n        \"std\": 285360.67434324103,\n        \"min\": 0.9939015496421792,\n        \"max\": 610334.3499207827,\n        \"num_unique_values\": 5,\n        \"samples\": [\n          2.409306410119989,\n          610334.3499207827,\n          390095.64644984045\n        ],\n        \"semantic_type\": \"\",\n        \"description\": \"\"\n      }\n    },\n    {\n      \"column\": \"min\",\n      \"properties\": {\n        \"dtype\": \"number\",\n        \"std\": 133515.58923211927,\n        \"min\": 0.0,\n        \"max\": 243766.0,\n        \"num_unique_values\": 3,\n        \"samples\": [\n          0.0,\n          2.0,\n          243766.0\n        ],\n        \"semantic_type\": \"\",\n        \"description\": \"\"\n      }\n    },\n    {\n      \"column\": \"25%\",\n      \"properties\": {\n        \"dtype\": \"number\",\n        \"std\": 316488.1814057201,\n        \"min\": 3.0,\n        \"max\": 667133.0,\n        \"num_unique_values\": 5,\n        \"samples\": [\n          3.0,\n          667133.0,\n          438431.0\n        ],\n        \"semantic_type\": \"\",\n        \"description\": \"\"\n      }\n    },\n    {\n      \"column\": \"50%\",\n      \"properties\": {\n        \"dtype\": \"number\",\n        \"std\": 326789.3977467751,\n        \"min\": 3.0,\n        \"max\": 696380.0,\n        \"num_unique_values\": 5,\n        \"samples\": [\n          3.0,\n          696380.0,\n          446398.0\n        ],\n        \"semantic_type\": \"\",\n        \"description\": \"\"\n      }\n    },\n    {\n      \"column\": \"75%\",\n      \"properties\": {\n        \"dtype\": \"number\",\n        \"std\": 387868.9848566137,\n        \"min\": 4.0,\n        \"max\": 762710.0,\n        \"num_unique_values\": 5,\n        \"samples\": [\n          4.0,\n          762710.0,\n          602268.5\n        ],\n        \"semantic_type\": \"\",\n        \"description\": \"\"\n      }\n    },\n    {\n      \"column\": \"max\",\n      \"properties\": {\n        \"dtype\": \"number\",\n        \"std\": 3338528.067310248,\n        \"min\": 8.0,\n        \"max\": 6982637.0,\n        \"num_unique_values\": 5,\n        \"samples\": [\n          11.0,\n          6982637.0,\n          4668357.0\n        ],\n        \"semantic_type\": \"\",\n        \"description\": \"\"\n      }\n    }\n  ]\n}"
            }
          },
          "metadata": {},
          "execution_count": 60
        }
      ]
    },
    {
      "cell_type": "markdown",
      "source": [
        "Filtrado de valores absolutos"
      ],
      "metadata": {
        "id": "8lXKqv0eIe7H"
      }
    },
    {
      "cell_type": "code",
      "source": [
        "df = df[(df['Enero'] > 0) & (df['Febrero'] >= 0) & (df['Marzo'] > 0)]"
      ],
      "metadata": {
        "id": "n1Tujp_RIU1t"
      },
      "execution_count": null,
      "outputs": []
    },
    {
      "cell_type": "markdown",
      "source": [
        "El dataset esta basado en datos de sueldo por lo cual ningun valor pordria ser negativo.\n"
      ],
      "metadata": {
        "id": "ejO76aI9In-d"
      }
    }
  ]
}